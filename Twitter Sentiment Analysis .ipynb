{
 "cells": [
  {
   "cell_type": "code",
   "execution_count": null,
   "metadata": {
    "collapsed": true
   },
   "outputs": [],
   "source": [
    "from __future__ import print_function\n",
    "import tweepy\n",
    "import json\n",
    "from pymongo import MongoClient"
   ]
  },
  {
   "cell_type": "code",
   "execution_count": null,
   "metadata": {
    "collapsed": true
   },
   "outputs": [],
   "source": [
    "MONGO_HOST= 'mongodb://localhost/twitterdb'  # assuming you have mongoDB installed locally\n",
    "# and a database called 'twitterdb'\n",
    "WORDS = ['#bigdata', '#AI', '#datascience', '#machinelearning', '#ml', '#iot']\n",
    "CONSUMER_KEY = \"KEY\"\n",
    "CONSUMER_SECRET = \"SECRET\"\n",
    "ACCESS_TOKEN = \"TOKEN\"\n",
    "ACCESS_TOKEN_SECRET = \"TOKEN_SECRET\""
   ]
  },
  {
   "cell_type": "code",
   "execution_count": null,
   "metadata": {
    "collapsed": true
   },
   "outputs": [],
   "source": [
    "class StreamListener(tweepy.StreamListener):    \n",
    "#This is a class provided by tweepy to access the Twitter Streaming API. \n",
    "def on_connect(self):\n",
    "# Called initially to connect to the Streaming API\n",
    "print(\"You are now connected to the streaming API.\")\n",
    "def on_error(self, status_code):\n",
    "# On error - if an error occurs, display the error / status code\n",
    "print('An Error has occured: ' + repr(status_code))\n",
    "return False\n",
    "def on_data(self, data):\n",
    "#This is the meat of the script...it connects to your mongoDB and stores the tweet\n",
    "try:\n",
    "client = MongoClient(MONGO_HOST)\n",
    "# Use twitterdb database. If it doesn't exist, it will be created.\n",
    "db = client.twitterdb\n",
    "# Decode the JSON from Twitter\n",
    "datajson = json.loads(data)\n",
    "#grab the 'created_at' data from the Tweet to use for display\n",
    "created_at = datajson['created_at']\n",
    "#print out a message to the screen that we have collected a tweet\n",
    "print(\"Tweet collected at \" + str(created_at))\n",
    "#insert the data into the mongoDB into a collection called twitter_search\n",
    "#if twitter_search doesn't exist, it will be created.\n",
    "db.twitter_search.insert(datajson)\n",
    "except Exception as e:\n",
    "print(e)\n",
    "auth = tweepy.OAuthHandler(CONSUMER_KEY, CONSUMER_SECRET)\n",
    "auth.set_access_token(ACCESS_TOKEN, ACCESS_TOKEN_SECRET)\n",
    "#Set up the listener. The 'wait_on_rate_limit=True' is needed to help with Twitter API rate limiting.\n",
    "listener = StreamListener(api=tweepy.API(wait_on_rate_limit=True)) \n",
    "streamer = tweepy.Stream(auth=auth, listener=listener)\n",
    "print(\"Tracking: \" + str(WORDS))\n",
    "streamer.filter(track=WORDS)"
   ]
  }
 ],
 "metadata": {
  "kernelspec": {
   "display_name": "Python 3",
   "language": "python",
   "name": "python3"
  },
  "language_info": {
   "codemirror_mode": {
    "name": "ipython",
    "version": 3
   },
   "file_extension": ".py",
   "mimetype": "text/x-python",
   "name": "python",
   "nbconvert_exporter": "python",
   "pygments_lexer": "ipython3",
   "version": "3.6.0"
  }
 },
 "nbformat": 4,
 "nbformat_minor": 2
}
